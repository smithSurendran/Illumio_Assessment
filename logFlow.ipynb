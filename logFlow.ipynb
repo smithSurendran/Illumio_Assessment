{
  "nbformat": 4,
  "nbformat_minor": 0,
  "metadata": {
    "colab": {
      "provenance": []
    },
    "kernelspec": {
      "name": "python3",
      "display_name": "Python 3"
    },
    "language_info": {
      "name": "python"
    }
  },
  "cells": [
    {
      "cell_type": "code",
      "execution_count": 1,
      "metadata": {
        "id": "gnbd593UFLQO",
        "colab": {
          "base_uri": "https://localhost:8080/"
        },
        "outputId": "1e331318-bf15-412b-a7ad-94656b275b9b"
      },
      "outputs": [
        {
          "output_type": "stream",
          "name": "stdout",
          "text": [
            "Tag for row sv_P1\n",
            "Tag for row sv_P2\n",
            "Tag for row sv_P1\n",
            "Tag for row SV_P3\n",
            "Tag for row sv_P2\n",
            "Tag for row sv_P4\n",
            "Tag for row sv_P5\n",
            "Tag for row sv_P5\n",
            "Tag for row email\n",
            "Tag for row email\n",
            "Tag for row email\n",
            "Version 2 dstport 443 field 6\n",
            "Version 2 dstport 23 field 6\n",
            "Version 2 dstport 25 field 6\n",
            "Version 2 dstport 110 field 6\n",
            "Version 2 dstport 993 field 6\n",
            "Version 2 dstport 143 field 6\n",
            "Version 2 dstport 1024 field 6\n",
            "Version 2 dstport 80 field 6\n",
            "Version 2 dstport 1030 field 6\n",
            "Version 2 dstport 56000 field 6\n",
            "Version 2 dstport 49321 field 6\n",
            "Version 2 dstport 49152 field 6\n",
            "Version 2 dstport 49153 field 6\n",
            "Version 2 dstport 49154 field 6\n",
            "Version 3 dstport 80 field 6\n",
            "Version 3 dstport 39812 field 6\n"
          ]
        }
      ],
      "source": [
        "import csv\n",
        "\n",
        "def load_lookup_table(filepath):\n",
        "    '''This function reads the lookup table from a CSV file and creates a dictionary mapping dstport and protocol combinations to their respective tags.'''\n",
        "    lookup_table = {}\n",
        "    with open(filepath, 'r', encoding='utf-8-sig') as f:\n",
        "        reader = csv.DictReader(f)\n",
        "        reader.fieldnames = [header.strip().replace('\\xa0', '') for header in reader.fieldnames]\n",
        "        for row in reader:\n",
        "\n",
        "            dstport = row['dstport'].strip()\n",
        "            protocol = row['protocol'].strip().lower()\n",
        "            tag = row['tag'].strip().replace('\\xa0', '')\n",
        "            print(f\"Tag for row {tag}\")\n",
        "            lookup_table[(dstport, protocol)] = tag\n",
        "    return lookup_table\n",
        "\n",
        "def parse_flow_logs(log_filepath, lookup_table):\n",
        "    '''Processes the flow log entries, maps them to tags based on the lookup table, and calculates counts for tags and unique (port, protocol) combinations.'''\n",
        "    tag_counts = {}\n",
        "    port_protocol_counts = {}\n",
        "\n",
        "    with open(log_filepath, 'r') as f:\n",
        "        for line in f:\n",
        "            fields = line.split()\n",
        "            version = int(fields[0])\n",
        "\n",
        "            # Determining the dstport and protocol based on the version\n",
        "            if version == 1:\n",
        "                # For Version 1: fields[5] is dstport, fields[6] is protocol\n",
        "                dstport = fields[5].strip()\n",
        "                protocol = 'tcp' if fields[6] == '6' else 'udp' if fields[6] == '17' else None\n",
        "            elif version == 2:\n",
        "                # Version 2: fields[5] is dstport, fields[7] is protocol\n",
        "                dstport = fields[5].strip()\n",
        "                print(f\"Version 2 dstport {dstport} field {fields[7]}\")\n",
        "                protocol = 'tcp' if fields[7] == '6' else 'udp' if fields[7] == '17' else None\n",
        "            elif version == 3:\n",
        "                # Version 3: dstport is fields[9], protocol is fields[10]\n",
        "                dstport = fields[9].strip()\n",
        "                print(f\"Version 3 dstport {dstport} field {fields[10]}\")\n",
        "                protocol = 'tcp' if fields[10] == '6' else 'udp' if fields[10] == '17' else None\n",
        "            elif version == 5:\n",
        "                # Version 5: dstport is fields[4], protocol is fields[5]\n",
        "                dstport = fields[4].strip()\n",
        "                protocol = 'tcp' if fields[5] == '6' else 'udp' if fields[5] == '17' else None\n",
        "            else:\n",
        "                # For Unsupported version\n",
        "                continue\n",
        "\n",
        "            if not protocol:\n",
        "                continue  # Skip unsupported protocols\n",
        "\n",
        "            # Finding tag based from the lookup table\n",
        "            tag = lookup_table.get((dstport, protocol), \"Untagged\")\n",
        "\n",
        "            # Update tag counter\n",
        "            tag_counts[tag] = tag_counts.get(tag, 0) + 1\n",
        "\n",
        "            # Update port/protocol counts\n",
        "            port_protocol_key = (dstport, protocol)\n",
        "            port_protocol_counts[port_protocol_key] = port_protocol_counts.get(port_protocol_key, 0) + 1\n",
        "\n",
        "    return tag_counts, port_protocol_counts\n",
        "\n",
        "def write_output(tag_counts, port_protocol_counts, output_filepath):\n",
        "    '''Writes the results of the analysis (tag counts and port/protocol combination counts) to an output file in a structured format.'''\n",
        "    with open(output_filepath, 'w') as f:\n",
        "        # Write Tag Counts\n",
        "        f.write(\"Tag Counts:\\n\\nTag,Count\\n\")\n",
        "        for tag, count in sorted(tag_counts.items()):\n",
        "            f.write(f\"{tag},{count}\\n\")\n",
        "\n",
        "        f.write(\"\\nPort/Protocol Combination Counts:\\n\\nPort,Protocol,Count\\n\")\n",
        "        for (port, protocol), count in sorted(port_protocol_counts.items()):\n",
        "            f.write(f\"{port},{protocol},{count}\\n\")\n",
        "\n",
        "\n",
        "if __name__ == \"__main__\":\n",
        "    lookup_table = load_lookup_table(\"lookup_table.csv\")\n",
        "    tag_counts, port_protocol_counts = parse_flow_logs(\"flow_log.txt\", lookup_table)\n",
        "    write_output(tag_counts, port_protocol_counts, \"output.txt\")\n"
      ]
    },
    {
      "cell_type": "code",
      "source": [],
      "metadata": {
        "id": "pbBd_PY1IZ8P"
      },
      "execution_count": null,
      "outputs": []
    }
  ]
}